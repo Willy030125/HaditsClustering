{
 "cells": [
  {
   "cell_type": "markdown",
   "id": "819060bf-0a71-4347-a508-0031104cd4c9",
   "metadata": {},
   "source": [
    "# Hadits Clustering"
   ]
  },
  {
   "cell_type": "markdown",
   "id": "81d47ee3-575b-4d5e-8784-782c81171e79",
   "metadata": {},
   "source": [
    "### Load data from Excel"
   ]
  },
  {
   "cell_type": "code",
   "execution_count": 1,
   "id": "409d7ca1-0cdf-4253-bf35-ffed3b05c4d8",
   "metadata": {},
   "outputs": [],
   "source": [
    "import numpy as np\n",
    "import pandas as pd"
   ]
  },
  {
   "cell_type": "code",
   "execution_count": 2,
   "id": "8107fdd6-5d46-4b76-81e7-26a103549168",
   "metadata": {},
   "outputs": [
    {
     "data": {
      "text/html": [
       "<div>\n",
       "<style scoped>\n",
       "    .dataframe tbody tr th:only-of-type {\n",
       "        vertical-align: middle;\n",
       "    }\n",
       "\n",
       "    .dataframe tbody tr th {\n",
       "        vertical-align: top;\n",
       "    }\n",
       "\n",
       "    .dataframe thead th {\n",
       "        text-align: right;\n",
       "    }\n",
       "</style>\n",
       "<table border=\"1\" class=\"dataframe\">\n",
       "  <thead>\n",
       "    <tr style=\"text-align: right;\">\n",
       "      <th></th>\n",
       "      <th>Hadits</th>\n",
       "      <th>Riwayah</th>\n",
       "      <th>Kategori</th>\n",
       "    </tr>\n",
       "  </thead>\n",
       "  <tbody>\n",
       "    <tr>\n",
       "      <th>0</th>\n",
       "      <td>Kebersihan itu adalah sebagian dari iman</td>\n",
       "      <td>Muslim</td>\n",
       "      <td>Kebersihan</td>\n",
       "    </tr>\n",
       "    <tr>\n",
       "      <th>1</th>\n",
       "      <td>Siapa yang sungguh-sungguh berusaha untuk bersabar maka Allah akan memudahkan kesabaran baginya</td>\n",
       "      <td>Bukhari</td>\n",
       "      <td>Sabar</td>\n",
       "    </tr>\n",
       "    <tr>\n",
       "      <th>2</th>\n",
       "      <td>Jika seorang manusia meninggal, terputuslah amalnya, kecuali dari tiga hal: sedekah jariyah, ilmu yang bermanfaat atau anak shalih yang berdoa untuknya</td>\n",
       "      <td>Muslim</td>\n",
       "      <td>Menuntut Ilmu</td>\n",
       "    </tr>\n",
       "    <tr>\n",
       "      <th>3</th>\n",
       "      <td>Islam itu adalah bersih, maka jadilah kalian orang yang bersih. Sesungguhnya tidak masuk surga kecuali orang-orang yang bersih</td>\n",
       "      <td>Baihaqi</td>\n",
       "      <td>Kebersihan</td>\n",
       "    </tr>\n",
       "    <tr>\n",
       "      <th>4</th>\n",
       "      <td>Sabar itu ketika pertama kali mendapatkan musibah</td>\n",
       "      <td>Al-Bazzar dan Abu Ya’la</td>\n",
       "      <td>Sabar</td>\n",
       "    </tr>\n",
       "    <tr>\n",
       "      <th>5</th>\n",
       "      <td>Menuntut ilmu itu wajib atas setiap Muslim</td>\n",
       "      <td>Ibnu Majah</td>\n",
       "      <td>Menuntut Ilmu</td>\n",
       "    </tr>\n",
       "    <tr>\n",
       "      <th>6</th>\n",
       "      <td>Jika sabar itu seorang laki-laki, niscaya ia adalah orang yang pemurah dan Allah menyukai orang-orang yang sabar</td>\n",
       "      <td>At Thabrani</td>\n",
       "      <td>Sabar</td>\n",
       "    </tr>\n",
       "    <tr>\n",
       "      <th>7</th>\n",
       "      <td>Siapa yang menempuh jalan untuk mencari ilmu, maka Allah akan mudahkan baginya jalan menuju surga</td>\n",
       "      <td>Muslim</td>\n",
       "      <td>Menuntut Ilmu</td>\n",
       "    </tr>\n",
       "    <tr>\n",
       "      <th>8</th>\n",
       "      <td>Agama itu dibangun berasaskan kebersihan</td>\n",
       "      <td>Muslim</td>\n",
       "      <td>Kebersihan</td>\n",
       "    </tr>\n",
       "    <tr>\n",
       "      <th>9</th>\n",
       "      <td>Belajarlah kalian ilmu untuk ketentraman dan ketenangan serta rendah hatilah pada orang yang kamu belajar darinya</td>\n",
       "      <td>At Thabrani</td>\n",
       "      <td>Menuntut Ilmu</td>\n",
       "    </tr>\n",
       "  </tbody>\n",
       "</table>\n",
       "</div>"
      ],
      "text/plain": [
       "                                                                                                                                                    Hadits  \\\n",
       "0                                                                                                                 Kebersihan itu adalah sebagian dari iman   \n",
       "1                                                          Siapa yang sungguh-sungguh berusaha untuk bersabar maka Allah akan memudahkan kesabaran baginya   \n",
       "2  Jika seorang manusia meninggal, terputuslah amalnya, kecuali dari tiga hal: sedekah jariyah, ilmu yang bermanfaat atau anak shalih yang berdoa untuknya   \n",
       "3                           Islam itu adalah bersih, maka jadilah kalian orang yang bersih. Sesungguhnya tidak masuk surga kecuali orang-orang yang bersih   \n",
       "4                                                                                                        Sabar itu ketika pertama kali mendapatkan musibah   \n",
       "5                                                                                                               Menuntut ilmu itu wajib atas setiap Muslim   \n",
       "6                                         Jika sabar itu seorang laki-laki, niscaya ia adalah orang yang pemurah dan Allah menyukai orang-orang yang sabar   \n",
       "7                                                        Siapa yang menempuh jalan untuk mencari ilmu, maka Allah akan mudahkan baginya jalan menuju surga   \n",
       "8                                                                                                                 Agama itu dibangun berasaskan kebersihan   \n",
       "9                                        Belajarlah kalian ilmu untuk ketentraman dan ketenangan serta rendah hatilah pada orang yang kamu belajar darinya   \n",
       "\n",
       "                   Riwayah       Kategori  \n",
       "0                   Muslim     Kebersihan  \n",
       "1                  Bukhari          Sabar  \n",
       "2                   Muslim  Menuntut Ilmu  \n",
       "3                  Baihaqi     Kebersihan  \n",
       "4  Al-Bazzar dan Abu Ya’la          Sabar  \n",
       "5               Ibnu Majah  Menuntut Ilmu  \n",
       "6              At Thabrani          Sabar  \n",
       "7                   Muslim  Menuntut Ilmu  \n",
       "8                   Muslim     Kebersihan  \n",
       "9              At Thabrani  Menuntut Ilmu  "
      ]
     },
     "execution_count": 2,
     "metadata": {},
     "output_type": "execute_result"
    }
   ],
   "source": [
    "pd.set_option('display.max_colwidth', None)\n",
    "data = pd.read_excel('data.xlsx')\n",
    "data"
   ]
  },
  {
   "cell_type": "code",
   "execution_count": 3,
   "id": "877e73bc-0ed5-480d-8b05-8f2448700c1b",
   "metadata": {},
   "outputs": [
    {
     "data": {
      "text/plain": [
       "['Kebersihan itu adalah sebagian dari iman',\n",
       " 'Siapa yang sungguh-sungguh berusaha untuk bersabar maka Allah akan memudahkan kesabaran baginya',\n",
       " 'Jika seorang manusia meninggal, terputuslah amalnya, kecuali dari tiga hal: sedekah jariyah, ilmu yang bermanfaat atau anak shalih yang berdoa untuknya',\n",
       " 'Islam itu adalah bersih, maka jadilah kalian orang yang bersih. Sesungguhnya tidak masuk surga kecuali orang-orang yang bersih',\n",
       " 'Sabar itu ketika pertama kali mendapatkan musibah',\n",
       " 'Menuntut ilmu itu wajib atas setiap Muslim',\n",
       " 'Jika sabar itu seorang laki-laki, niscaya ia adalah orang yang pemurah dan Allah menyukai orang-orang yang sabar',\n",
       " 'Siapa yang menempuh jalan untuk mencari ilmu, maka Allah akan mudahkan baginya jalan menuju surga',\n",
       " 'Agama itu dibangun berasaskan kebersihan',\n",
       " 'Belajarlah kalian ilmu untuk ketentraman dan ketenangan serta rendah hatilah pada orang yang kamu belajar darinya']"
      ]
     },
     "execution_count": 3,
     "metadata": {},
     "output_type": "execute_result"
    }
   ],
   "source": [
    "hadits = list(data['Hadits'])\n",
    "hadits"
   ]
  },
  {
   "cell_type": "markdown",
   "id": "c5154111-88de-43d5-af68-fc916440b103",
   "metadata": {},
   "source": [
    "### N-grams: Words Grouping\n",
    "<b>Bi-grams (2-grams)</b>"
   ]
  },
  {
   "cell_type": "code",
   "execution_count": 4,
   "id": "3b480a69-97d7-4f06-b758-917ad285143f",
   "metadata": {},
   "outputs": [],
   "source": [
    "from sklearn.feature_extraction.text import CountVectorizer\n",
    "\n",
    "vectorizer = CountVectorizer(analyzer='word', ngram_range=(2, 2))\n",
    "n_grams = vectorizer.fit_transform(data['Hadits'].values.astype('U'))"
   ]
  },
  {
   "cell_type": "code",
   "execution_count": 5,
   "id": "f6104240-ab3c-4193-81df-ac44437fd579",
   "metadata": {},
   "outputs": [
    {
     "data": {
      "text/plain": [
       "array(['adalah bersih', 'adalah orang', 'adalah sebagian', 'agama itu',\n",
       "       'akan memudahkan', 'akan mudahkan', 'allah akan', 'allah menyukai',\n",
       "       'amalnya kecuali', 'anak shalih', 'atas setiap', 'atau anak',\n",
       "       'baginya jalan', 'belajar darinya', 'belajarlah kalian',\n",
       "       'berasaskan kebersihan', 'berdoa untuknya', 'bermanfaat atau',\n",
       "       'bersabar maka', 'bersih maka', 'bersih sesungguhnya',\n",
       "       'berusaha untuk', 'dan allah', 'dan ketenangan', 'dari iman',\n",
       "       'dari tiga', 'dibangun berasaskan', 'hal sedekah', 'hatilah pada',\n",
       "       'ia adalah', 'ilmu itu', 'ilmu maka', 'ilmu untuk', 'ilmu yang',\n",
       "       'islam itu', 'itu adalah', 'itu dibangun', 'itu ketika',\n",
       "       'itu seorang', 'itu wajib', 'jadilah kalian', 'jalan menuju',\n",
       "       'jalan untuk', 'jariyah ilmu', 'jika sabar', 'jika seorang',\n",
       "       'kali mendapatkan', 'kalian ilmu', 'kalian orang', 'kamu belajar',\n",
       "       'kebersihan itu', 'kecuali dari', 'kecuali orang',\n",
       "       'kesabaran baginya', 'ketenangan serta', 'ketentraman dan',\n",
       "       'ketika pertama', 'laki laki', 'laki niscaya', 'maka allah',\n",
       "       'maka jadilah', 'manusia meninggal', 'masuk surga',\n",
       "       'memudahkan kesabaran', 'mencari ilmu', 'mendapatkan musibah',\n",
       "       'menempuh jalan', 'meninggal terputuslah', 'menuju surga',\n",
       "       'menuntut ilmu', 'menyukai orang', 'mudahkan baginya',\n",
       "       'niscaya ia', 'orang orang', 'orang yang', 'pada orang',\n",
       "       'pemurah dan', 'pertama kali', 'rendah hatilah', 'sabar itu',\n",
       "       'sebagian dari', 'sedekah jariyah', 'seorang laki',\n",
       "       'seorang manusia', 'serta rendah', 'sesungguhnya tidak',\n",
       "       'setiap muslim', 'shalih yang', 'siapa yang', 'sungguh berusaha',\n",
       "       'sungguh sungguh', 'surga kecuali', 'terputuslah amalnya',\n",
       "       'tidak masuk', 'tiga hal', 'untuk bersabar', 'untuk ketentraman',\n",
       "       'untuk mencari', 'wajib atas', 'yang berdoa', 'yang bermanfaat',\n",
       "       'yang bersih', 'yang kamu', 'yang menempuh', 'yang pemurah',\n",
       "       'yang sabar', 'yang sungguh'], dtype=object)"
      ]
     },
     "execution_count": 5,
     "metadata": {},
     "output_type": "execute_result"
    }
   ],
   "source": [
    "vectorizer.get_feature_names_out()"
   ]
  },
  {
   "cell_type": "markdown",
   "id": "65bf42c6-18fd-409e-9c80-b93735f00fd6",
   "metadata": {},
   "source": [
    "<b>Tri-grams (3-grams)</b>"
   ]
  },
  {
   "cell_type": "code",
   "execution_count": 6,
   "id": "3014923d-b74a-405a-8596-7725b5f92dfb",
   "metadata": {},
   "outputs": [],
   "source": [
    "vectorizer = CountVectorizer(analyzer='word', ngram_range=(3, 3))\n",
    "n_grams = vectorizer.fit_transform(data['Hadits'].values.astype('U'))"
   ]
  },
  {
   "cell_type": "code",
   "execution_count": 7,
   "id": "97fdc622-b7df-4818-a646-d58c66c1bced",
   "metadata": {},
   "outputs": [
    {
     "data": {
      "text/plain": [
       "array(['adalah bersih maka', 'adalah orang yang', 'adalah sebagian dari',\n",
       "       'agama itu dibangun', 'akan memudahkan kesabaran',\n",
       "       'akan mudahkan baginya', 'allah akan memudahkan',\n",
       "       'allah akan mudahkan', 'allah menyukai orang',\n",
       "       'amalnya kecuali dari', 'anak shalih yang', 'atas setiap muslim',\n",
       "       'atau anak shalih', 'baginya jalan menuju',\n",
       "       'belajarlah kalian ilmu', 'bermanfaat atau anak',\n",
       "       'bersabar maka allah', 'bersih maka jadilah',\n",
       "       'bersih sesungguhnya tidak', 'berusaha untuk bersabar',\n",
       "       'dan allah menyukai', 'dan ketenangan serta', 'dari tiga hal',\n",
       "       'dibangun berasaskan kebersihan', 'hal sedekah jariyah',\n",
       "       'hatilah pada orang', 'ia adalah orang', 'ilmu itu wajib',\n",
       "       'ilmu maka allah', 'ilmu untuk ketentraman',\n",
       "       'ilmu yang bermanfaat', 'islam itu adalah', 'itu adalah bersih',\n",
       "       'itu adalah sebagian', 'itu dibangun berasaskan',\n",
       "       'itu ketika pertama', 'itu seorang laki', 'itu wajib atas',\n",
       "       'jadilah kalian orang', 'jalan menuju surga',\n",
       "       'jalan untuk mencari', 'jariyah ilmu yang', 'jika sabar itu',\n",
       "       'jika seorang manusia', 'kali mendapatkan musibah',\n",
       "       'kalian ilmu untuk', 'kalian orang yang', 'kamu belajar darinya',\n",
       "       'kebersihan itu adalah', 'kecuali dari tiga',\n",
       "       'kecuali orang orang', 'ketenangan serta rendah',\n",
       "       'ketentraman dan ketenangan', 'ketika pertama kali',\n",
       "       'laki laki niscaya', 'laki niscaya ia', 'maka allah akan',\n",
       "       'maka jadilah kalian', 'manusia meninggal terputuslah',\n",
       "       'masuk surga kecuali', 'memudahkan kesabaran baginya',\n",
       "       'mencari ilmu maka', 'menempuh jalan untuk',\n",
       "       'meninggal terputuslah amalnya', 'menuntut ilmu itu',\n",
       "       'menyukai orang orang', 'mudahkan baginya jalan',\n",
       "       'niscaya ia adalah', 'orang orang yang', 'orang yang bersih',\n",
       "       'orang yang kamu', 'orang yang pemurah', 'orang yang sabar',\n",
       "       'pada orang yang', 'pemurah dan allah', 'pertama kali mendapatkan',\n",
       "       'rendah hatilah pada', 'sabar itu ketika', 'sabar itu seorang',\n",
       "       'sebagian dari iman', 'sedekah jariyah ilmu', 'seorang laki laki',\n",
       "       'seorang manusia meninggal', 'serta rendah hatilah',\n",
       "       'sesungguhnya tidak masuk', 'shalih yang berdoa',\n",
       "       'siapa yang menempuh', 'siapa yang sungguh',\n",
       "       'sungguh berusaha untuk', 'sungguh sungguh berusaha',\n",
       "       'surga kecuali orang', 'terputuslah amalnya kecuali',\n",
       "       'tidak masuk surga', 'tiga hal sedekah', 'untuk bersabar maka',\n",
       "       'untuk ketentraman dan', 'untuk mencari ilmu', 'wajib atas setiap',\n",
       "       'yang berdoa untuknya', 'yang bermanfaat atau',\n",
       "       'yang bersih sesungguhnya', 'yang kamu belajar',\n",
       "       'yang menempuh jalan', 'yang pemurah dan', 'yang sungguh sungguh'],\n",
       "      dtype=object)"
      ]
     },
     "execution_count": 7,
     "metadata": {},
     "output_type": "execute_result"
    }
   ],
   "source": [
    "vectorizer.get_feature_names_out()"
   ]
  },
  {
   "cell_type": "markdown",
   "id": "1edd9d05-285d-4250-a835-fa876e30191d",
   "metadata": {},
   "source": [
    "# NLP Preprocessing\n",
    "Stemming, Stop Words Removal, and Tokenizing"
   ]
  },
  {
   "cell_type": "markdown",
   "id": "6a4d8299-a672-42c0-8c1d-6b8bb4589e9d",
   "metadata": {},
   "source": [
    "### Stemming"
   ]
  },
  {
   "cell_type": "code",
   "execution_count": 8,
   "id": "7ede2a32-eb82-4674-87ac-deca98efaa4f",
   "metadata": {},
   "outputs": [
    {
     "data": {
      "text/plain": [
       "['bersih itu adalah bagi dari iman',\n",
       " 'siapa yang sungguh usaha untuk sabar maka allah akan mudah sabar bagi',\n",
       " 'jika orang manusia tinggal putus amal kecuali dari tiga hal sedekah jariyah ilmu yang manfaat atau anak shalih yang doa untuk',\n",
       " 'islam itu adalah bersih maka jadi kalian orang yang bersih sungguh tidak masuk surga kecuali orang yang bersih',\n",
       " 'sabar itu ketika pertama kali dapat musibah',\n",
       " 'tuntut ilmu itu wajib atas tiap muslim',\n",
       " 'jika sabar itu orang laki niscaya ia adalah orang yang murah dan allah suka orang yang sabar',\n",
       " 'siapa yang tempuh jalan untuk cari ilmu maka allah akan mudah bagi jalan tuju surga',\n",
       " 'agama itu bangun asas bersih',\n",
       " 'bajar kalian ilmu untuk ketentraman dan tenang serta rendah hati pada orang yang kamu ajar dari']"
      ]
     },
     "execution_count": 8,
     "metadata": {},
     "output_type": "execute_result"
    }
   ],
   "source": [
    "from Sastrawi.Stemmer.StemmerFactory import StemmerFactory\n",
    "\n",
    "# create stemmer\n",
    "factory = StemmerFactory()\n",
    "stemmer = factory.create_stemmer()\n",
    "\n",
    "stem_words = []\n",
    "\n",
    "# stemming process\n",
    "for item in hadits:\n",
    "    output = stemmer.stem(item)\n",
    "    stem_words.append(output)\n",
    "\n",
    "stem_words"
   ]
  },
  {
   "cell_type": "markdown",
   "id": "5345c68a-176d-4921-934c-33c2aa855d27",
   "metadata": {},
   "source": [
    "### Stop Words Removal"
   ]
  },
  {
   "cell_type": "code",
   "execution_count": 9,
   "id": "d69e6d9d-03c9-42be-a4e8-d72ca9afa56f",
   "metadata": {},
   "outputs": [
    {
     "data": {
      "text/plain": [
       "['bersih iman',\n",
       " 'sungguh usaha sabar allah mudah sabar',\n",
       " 'manusia tinggal putus amal kecuali sedekah jariyah ilmu manfaat anak shalih doa',\n",
       " 'islam bersih bersih sungguh surga kecuali bersih',\n",
       " 'sabar musibah',\n",
       " 'tuntut ilmu wajib muslim',\n",
       " 'sabar laki niscaya murah allah suka sabar',\n",
       " 'tempuh jalan cari ilmu allah mudah jalan surga',\n",
       " 'agama bangun asas bersih',\n",
       " 'bajar ilmu ketentraman tenang rendah hati ajar']"
      ]
     },
     "execution_count": 9,
     "metadata": {},
     "output_type": "execute_result"
    }
   ],
   "source": [
    "from Sastrawi.StopWordRemover.StopWordRemoverFactory import StopWordRemoverFactory\n",
    "\n",
    "# create stop words removal\n",
    "factory = StopWordRemoverFactory()\n",
    "stopwords = factory.create_stop_word_remover()\n",
    "\n",
    "stopwords_result = []\n",
    "\n",
    "# stop words removal process\n",
    "for item in stem_words:\n",
    "    output = stopwords.remove(item)\n",
    "    stopwords_result.append(output)\n",
    "\n",
    "stopwords_result"
   ]
  },
  {
   "cell_type": "markdown",
   "id": "ffec872f-e3d2-4b25-bc67-2d4dd6747248",
   "metadata": {},
   "source": [
    "### Merge into DataFrame"
   ]
  },
  {
   "cell_type": "code",
   "execution_count": 10,
   "id": "5c9bba2a-9278-4d56-8dc1-497213c000ad",
   "metadata": {},
   "outputs": [],
   "source": [
    "data = data.drop(columns=['Hadits'])"
   ]
  },
  {
   "cell_type": "code",
   "execution_count": 11,
   "id": "1899e7fa-dd28-48f8-98fa-cab8356b1a8f",
   "metadata": {},
   "outputs": [
    {
     "data": {
      "text/html": [
       "<div>\n",
       "<style scoped>\n",
       "    .dataframe tbody tr th:only-of-type {\n",
       "        vertical-align: middle;\n",
       "    }\n",
       "\n",
       "    .dataframe tbody tr th {\n",
       "        vertical-align: top;\n",
       "    }\n",
       "\n",
       "    .dataframe thead th {\n",
       "        text-align: right;\n",
       "    }\n",
       "</style>\n",
       "<table border=\"1\" class=\"dataframe\">\n",
       "  <thead>\n",
       "    <tr style=\"text-align: right;\">\n",
       "      <th></th>\n",
       "      <th>Hadits</th>\n",
       "      <th>Riwayah</th>\n",
       "      <th>Kategori</th>\n",
       "    </tr>\n",
       "  </thead>\n",
       "  <tbody>\n",
       "    <tr>\n",
       "      <th>0</th>\n",
       "      <td>bersih iman</td>\n",
       "      <td>Muslim</td>\n",
       "      <td>Kebersihan</td>\n",
       "    </tr>\n",
       "    <tr>\n",
       "      <th>1</th>\n",
       "      <td>sungguh usaha sabar allah mudah sabar</td>\n",
       "      <td>Bukhari</td>\n",
       "      <td>Sabar</td>\n",
       "    </tr>\n",
       "    <tr>\n",
       "      <th>2</th>\n",
       "      <td>manusia tinggal putus amal kecuali sedekah jariyah ilmu manfaat anak shalih doa</td>\n",
       "      <td>Muslim</td>\n",
       "      <td>Menuntut Ilmu</td>\n",
       "    </tr>\n",
       "    <tr>\n",
       "      <th>3</th>\n",
       "      <td>islam bersih bersih sungguh surga kecuali bersih</td>\n",
       "      <td>Baihaqi</td>\n",
       "      <td>Kebersihan</td>\n",
       "    </tr>\n",
       "    <tr>\n",
       "      <th>4</th>\n",
       "      <td>sabar musibah</td>\n",
       "      <td>Al-Bazzar dan Abu Ya’la</td>\n",
       "      <td>Sabar</td>\n",
       "    </tr>\n",
       "    <tr>\n",
       "      <th>5</th>\n",
       "      <td>tuntut ilmu wajib muslim</td>\n",
       "      <td>Ibnu Majah</td>\n",
       "      <td>Menuntut Ilmu</td>\n",
       "    </tr>\n",
       "    <tr>\n",
       "      <th>6</th>\n",
       "      <td>sabar laki niscaya murah allah suka sabar</td>\n",
       "      <td>At Thabrani</td>\n",
       "      <td>Sabar</td>\n",
       "    </tr>\n",
       "    <tr>\n",
       "      <th>7</th>\n",
       "      <td>tempuh jalan cari ilmu allah mudah jalan surga</td>\n",
       "      <td>Muslim</td>\n",
       "      <td>Menuntut Ilmu</td>\n",
       "    </tr>\n",
       "    <tr>\n",
       "      <th>8</th>\n",
       "      <td>agama bangun asas bersih</td>\n",
       "      <td>Muslim</td>\n",
       "      <td>Kebersihan</td>\n",
       "    </tr>\n",
       "    <tr>\n",
       "      <th>9</th>\n",
       "      <td>bajar ilmu ketentraman tenang rendah hati ajar</td>\n",
       "      <td>At Thabrani</td>\n",
       "      <td>Menuntut Ilmu</td>\n",
       "    </tr>\n",
       "  </tbody>\n",
       "</table>\n",
       "</div>"
      ],
      "text/plain": [
       "                                                                            Hadits  \\\n",
       "0                                                                      bersih iman   \n",
       "1                                            sungguh usaha sabar allah mudah sabar   \n",
       "2  manusia tinggal putus amal kecuali sedekah jariyah ilmu manfaat anak shalih doa   \n",
       "3                                 islam bersih bersih sungguh surga kecuali bersih   \n",
       "4                                                                    sabar musibah   \n",
       "5                                                         tuntut ilmu wajib muslim   \n",
       "6                                        sabar laki niscaya murah allah suka sabar   \n",
       "7                                   tempuh jalan cari ilmu allah mudah jalan surga   \n",
       "8                                                         agama bangun asas bersih   \n",
       "9                                   bajar ilmu ketentraman tenang rendah hati ajar   \n",
       "\n",
       "                   Riwayah       Kategori  \n",
       "0                   Muslim     Kebersihan  \n",
       "1                  Bukhari          Sabar  \n",
       "2                   Muslim  Menuntut Ilmu  \n",
       "3                  Baihaqi     Kebersihan  \n",
       "4  Al-Bazzar dan Abu Ya’la          Sabar  \n",
       "5               Ibnu Majah  Menuntut Ilmu  \n",
       "6              At Thabrani          Sabar  \n",
       "7                   Muslim  Menuntut Ilmu  \n",
       "8                   Muslim     Kebersihan  \n",
       "9              At Thabrani  Menuntut Ilmu  "
      ]
     },
     "execution_count": 11,
     "metadata": {},
     "output_type": "execute_result"
    }
   ],
   "source": [
    "pd.set_option('display.max_colwidth', None)\n",
    "data.insert(0, \"Hadits\", stopwords_result, True)\n",
    "data"
   ]
  },
  {
   "cell_type": "markdown",
   "id": "4fe90fc5-9941-4122-86de-01e006646457",
   "metadata": {},
   "source": [
    "### 1st Feature Extraction : TF-IDF Vectorizer"
   ]
  },
  {
   "cell_type": "code",
   "execution_count": 12,
   "id": "761e3822-9969-41cf-9c7f-04d16f2d1f58",
   "metadata": {},
   "outputs": [],
   "source": [
    "from sklearn.feature_extraction.text import TfidfVectorizer\n",
    "\n",
    "# Vectorizer to convert a collection of raw text to a matrix of TF-IDF features\n",
    "vectorizer = TfidfVectorizer()"
   ]
  },
  {
   "cell_type": "code",
   "execution_count": 13,
   "id": "45d98e11-3669-44f3-9183-84d4e51cbcba",
   "metadata": {},
   "outputs": [
    {
     "name": "stdout",
     "output_type": "stream",
     "text": [
      "  (0, 13)\t0.8024086456077293\n",
      "  (0, 8)\t0.5967749705324189\n",
      "  (1, 22)\t0.3723968219674235\n",
      "  (1, 2)\t0.3258032141960123\n",
      "  (1, 29)\t0.6516064283920247\n",
      "  (1, 39)\t0.43806682375507827\n",
      "  (1, 33)\t0.3723968219674235\n",
      "  (2, 10)\t0.29934379473347933\n",
      "  (2, 31)\t0.29934379473347933\n",
      "  (2, 4)\t0.29934379473347933\n",
      "  (2, 20)\t0.29934379473347933\n",
      "  (2, 12)\t0.19793474094935037\n",
      "  (2, 16)\t0.29934379473347933\n",
      "  (2, 30)\t0.29934379473347933\n",
      "  (2, 17)\t0.2544695735661133\n",
      "  (2, 3)\t0.29934379473347933\n",
      "  (2, 27)\t0.29934379473347933\n",
      "  (2, 37)\t0.29934379473347933\n",
      "  (2, 21)\t0.29934379473347933\n",
      "  (3, 34)\t0.2978440463447951\n",
      "  (3, 14)\t0.35036710213396627\n",
      "  (3, 17)\t0.2978440463447951\n",
      "  (3, 33)\t0.2978440463447951\n",
      "  (3, 8)\t0.7817350356182876\n",
      "  (4, 24)\t0.8024086456077293\n",
      "  :\t:\n",
      "  (5, 12)\t0.3566546401133593\n",
      "  (6, 32)\t0.3844542504197235\n",
      "  (6, 23)\t0.3844542504197235\n",
      "  (6, 26)\t0.3844542504197235\n",
      "  (6, 19)\t0.3844542504197235\n",
      "  (6, 2)\t0.285929962521186\n",
      "  (6, 29)\t0.571859925042372\n",
      "  (7, 9)\t0.3443025723968618\n",
      "  (7, 15)\t0.6886051447937236\n",
      "  (7, 35)\t0.3443025723968618\n",
      "  (7, 34)\t0.29268864201294986\n",
      "  (7, 12)\t0.22766277996924783\n",
      "  (7, 22)\t0.29268864201294986\n",
      "  (7, 2)\t0.2560679756145364\n",
      "  (8, 5)\t0.5305108057393491\n",
      "  (8, 7)\t0.5305108057393491\n",
      "  (8, 0)\t0.5305108057393491\n",
      "  (8, 8)\t0.3945565295130217\n",
      "  (9, 1)\t0.39414017463478207\n",
      "  (9, 11)\t0.39414017463478207\n",
      "  (9, 28)\t0.39414017463478207\n",
      "  (9, 36)\t0.39414017463478207\n",
      "  (9, 18)\t0.39414017463478207\n",
      "  (9, 6)\t0.39414017463478207\n",
      "  (9, 12)\t0.26061683835312865\n"
     ]
    }
   ],
   "source": [
    "# Learn vocabulary and idf, return text matrix.\n",
    "tfidf = vectorizer.fit_transform(data['Hadits'].values.astype('U'))\n",
    "print(tfidf)"
   ]
  },
  {
   "cell_type": "markdown",
   "id": "c8beb14b-a965-4bce-a8b6-1513f35225d9",
   "metadata": {},
   "source": [
    "### Tokenization from TF-IDF Vectorizer"
   ]
  },
  {
   "cell_type": "code",
   "execution_count": 14,
   "id": "66f15663-f630-470d-ac11-0efa1823a6fc",
   "metadata": {},
   "outputs": [
    {
     "data": {
      "text/plain": [
       "array(['agama', 'ajar', 'allah', 'amal', 'anak', 'asas', 'bajar',\n",
       "       'bangun', 'bersih', 'cari', 'doa', 'hati', 'ilmu', 'iman', 'islam',\n",
       "       'jalan', 'jariyah', 'kecuali', 'ketentraman', 'laki', 'manfaat',\n",
       "       'manusia', 'mudah', 'murah', 'musibah', 'muslim', 'niscaya',\n",
       "       'putus', 'rendah', 'sabar', 'sedekah', 'shalih', 'suka', 'sungguh',\n",
       "       'surga', 'tempuh', 'tenang', 'tinggal', 'tuntut', 'usaha', 'wajib'],\n",
       "      dtype=object)"
      ]
     },
     "execution_count": 14,
     "metadata": {},
     "output_type": "execute_result"
    }
   ],
   "source": [
    "# Array mapping from feature integer indices to feature name\n",
    "words = vectorizer.get_feature_names_out()\n",
    "words"
   ]
  },
  {
   "cell_type": "markdown",
   "id": "70c07ed5-043d-46da-9ba3-7c87bddfe949",
   "metadata": {},
   "source": [
    "### Cosine Similarity and Similarity Matrix (optional)"
   ]
  },
  {
   "cell_type": "code",
   "execution_count": 15,
   "id": "d0e3a8ee-588e-43ec-90ed-2b06bbcd0c0f",
   "metadata": {},
   "outputs": [],
   "source": [
    "from sklearn.metrics.pairwise import cosine_similarity\n",
    "\n",
    "# Compute cosine similarity between samples in X and Y.\n",
    "similarity_matrix = cosine_similarity(tfidf, tfidf)"
   ]
  },
  {
   "cell_type": "code",
   "execution_count": 16,
   "id": "0a4043af-c4b4-44a6-a8f0-a46fa4edfa3e",
   "metadata": {},
   "outputs": [
    {
     "data": {
      "text/plain": [
       "array([[1.        , 0.        , 0.        , 0.4665199 , 0.        ,\n",
       "        0.        , 0.        , 0.        , 0.23546146, 0.        ],\n",
       "       [0.        , 1.        , 0.        , 0.11091618, 0.38886241,\n",
       "        0.        , 0.4657845 , 0.19242409, 0.        , 0.        ],\n",
       "       [0.        , 0.        , 1.        , 0.07579225, 0.        ,\n",
       "        0.07059434, 0.        , 0.04506237, 0.        , 0.05158513],\n",
       "       [0.4665199 , 0.11091618, 0.07579225, 1.        , 0.        ,\n",
       "        0.        , 0.        , 0.08717557, 0.30843866, 0.        ],\n",
       "       [0.        , 0.38886241, 0.        , 0.        , 1.        ,\n",
       "        0.        , 0.34127169, 0.        , 0.        , 0.        ],\n",
       "       [0.        , 0.        , 0.07059434, 0.        , 0.        ,\n",
       "        1.        , 0.        , 0.08119699, 0.        , 0.0929502 ],\n",
       "       [0.        , 0.4657845 , 0.        , 0.        , 0.34127169,\n",
       "        0.        , 1.        , 0.07321751, 0.        , 0.        ],\n",
       "       [0.        , 0.19242409, 0.04506237, 0.08717557, 0.        ,\n",
       "        0.08119699, 0.07321751, 1.        , 0.        , 0.05933275],\n",
       "       [0.23546146, 0.        , 0.        , 0.30843866, 0.        ,\n",
       "        0.        , 0.        , 0.        , 1.        , 0.        ],\n",
       "       [0.        , 0.        , 0.05158513, 0.        , 0.        ,\n",
       "        0.0929502 , 0.        , 0.05933275, 0.        , 1.        ]])"
      ]
     },
     "execution_count": 16,
     "metadata": {},
     "output_type": "execute_result"
    }
   ],
   "source": [
    "# Matrix product\n",
    "similarity_matrix"
   ]
  },
  {
   "cell_type": "markdown",
   "id": "9bf8e00f-3086-4ecf-8565-4721fec83f3f",
   "metadata": {},
   "source": [
    "### Predict category using Cosine Similarity (optional)"
   ]
  },
  {
   "cell_type": "code",
   "execution_count": 17,
   "id": "b5abd8bb-96b7-4aef-9c5e-46ef9f3b03cc",
   "metadata": {},
   "outputs": [],
   "source": [
    "# Instead of using fit_transform, you need to first fit \n",
    "# the new text to the TFIDF matrix corpus like this:\n",
    "queryTFIDF = TfidfVectorizer().fit(words)"
   ]
  },
  {
   "cell_type": "code",
   "execution_count": 18,
   "id": "eebd4085-8978-404b-8116-db155c89c1d1",
   "metadata": {},
   "outputs": [],
   "source": [
    "# We can check that using a new predict text\n",
    "predict_text = 'ilmu'"
   ]
  },
  {
   "cell_type": "code",
   "execution_count": 19,
   "id": "40a2ea0c-ff94-4fd9-9773-5bc69fd33cf4",
   "metadata": {},
   "outputs": [],
   "source": [
    "# Now we can 'transform' this vector into that matrix shape by using the transform function:\n",
    "queryTFIDF = queryTFIDF.transform([predict_text])"
   ]
  },
  {
   "cell_type": "code",
   "execution_count": 20,
   "id": "73b5d760-9bd6-47b2-8cb2-bb514b8a8145",
   "metadata": {},
   "outputs": [
    {
     "data": {
      "text/plain": [
       "array([0.        , 0.        , 0.19793474, 0.        , 0.        ,\n",
       "       0.35665464, 0.        , 0.22766278, 0.        , 0.26061684])"
      ]
     },
     "execution_count": 20,
     "metadata": {},
     "output_type": "execute_result"
    }
   ],
   "source": [
    "# As we transformed our query in a tfidf object\n",
    "# we can calculate the cosine similarity in comparison with \n",
    "# our pevious corpora\n",
    "cosine_similarities = cosine_similarity(queryTFIDF, tfidf).flatten()\n",
    "cosine_similarities"
   ]
  },
  {
   "cell_type": "code",
   "execution_count": 21,
   "id": "c4eb74f7-f467-47f1-b2ce-3c80ef02efd7",
   "metadata": {},
   "outputs": [
    {
     "name": "stdout",
     "output_type": "stream",
     "text": [
      "Prediksi kategori 'ilmu' terkait pada urutan Hadits: [2, 5, 7, 9]\n"
     ]
    }
   ],
   "source": [
    "result = np.where(cosine_similarities != 0.0)\n",
    "print(\"Prediksi kategori \\'{}\\' terkait pada urutan Hadits:\".format(predict_text), list(np.array(result).flatten()))"
   ]
  },
  {
   "cell_type": "markdown",
   "id": "75042d41-d390-4019-9ad0-8ef41dd1cdbb",
   "metadata": {},
   "source": [
    "### 2nd Feature Extraction : N-grams\n",
    "<b>Used 1-grams only for Feature Extraction comparison</b>"
   ]
  },
  {
   "cell_type": "code",
   "execution_count": 22,
   "id": "af21ac42-997c-482e-9e78-02ff93e224b7",
   "metadata": {},
   "outputs": [],
   "source": [
    "from sklearn.feature_extraction.text import CountVectorizer\n",
    "\n",
    "vectorizer = CountVectorizer(analyzer='word', ngram_range=(1, 1))\n",
    "n_grams = vectorizer.fit_transform(data['Hadits'].values.astype('U'))"
   ]
  },
  {
   "cell_type": "markdown",
   "id": "b063d07a-5ab8-45c4-a944-b76db9c6f158",
   "metadata": {},
   "source": [
    "### Tokenization from N-grams"
   ]
  },
  {
   "cell_type": "code",
   "execution_count": 23,
   "id": "90e0de35-a519-4112-823d-7a511795d59e",
   "metadata": {},
   "outputs": [
    {
     "data": {
      "text/plain": [
       "array(['agama', 'ajar', 'allah', 'amal', 'anak', 'asas', 'bajar',\n",
       "       'bangun', 'bersih', 'cari', 'doa', 'hati', 'ilmu', 'iman', 'islam',\n",
       "       'jalan', 'jariyah', 'kecuali', 'ketentraman', 'laki', 'manfaat',\n",
       "       'manusia', 'mudah', 'murah', 'musibah', 'muslim', 'niscaya',\n",
       "       'putus', 'rendah', 'sabar', 'sedekah', 'shalih', 'suka', 'sungguh',\n",
       "       'surga', 'tempuh', 'tenang', 'tinggal', 'tuntut', 'usaha', 'wajib'],\n",
       "      dtype=object)"
      ]
     },
     "execution_count": 23,
     "metadata": {},
     "output_type": "execute_result"
    }
   ],
   "source": [
    "vectorizer.get_feature_names_out()"
   ]
  },
  {
   "cell_type": "markdown",
   "id": "25cd7bb4-388d-4a70-89fd-e64785a8dc0e",
   "metadata": {},
   "source": [
    "### Clustering using K-Means from N-grams"
   ]
  },
  {
   "cell_type": "code",
   "execution_count": 24,
   "id": "08c1af3a-fc34-45f8-aeab-3768c5d56909",
   "metadata": {},
   "outputs": [],
   "source": [
    "from sklearn.cluster import KMeans\n",
    "kmeans = KMeans(n_clusters=3, random_state=0).fit(n_grams)"
   ]
  },
  {
   "cell_type": "code",
   "execution_count": 25,
   "id": "69c6b1a4-6dc3-4dc6-9a03-481f21bd4e07",
   "metadata": {},
   "outputs": [
    {
     "name": "stdout",
     "output_type": "stream",
     "text": [
      "[0 0 1 2 0 0 0 0 0 0]\n"
     ]
    }
   ],
   "source": [
    "kmeans_result = kmeans.predict(n_grams)\n",
    "print(kmeans_result)"
   ]
  },
  {
   "cell_type": "code",
   "execution_count": 26,
   "id": "ee491fbf-8770-468e-a4f5-0718a0f1cdb3",
   "metadata": {},
   "outputs": [
    {
     "name": "stdout",
     "output_type": "stream",
     "text": [
      "cluster:  0\n",
      "(array([0, 1, 4, 5, 6, 7, 8, 9]),)\n",
      "cluster:  1\n",
      "(array([2]),)\n",
      "cluster:  2\n",
      "(array([3]),)\n"
     ]
    }
   ],
   "source": [
    "# Show cluster results\n",
    "for cluster_number in range(3):\n",
    "    print('cluster: ', cluster_number)\n",
    "    kmeans_group = np.where(kmeans_result == cluster_number)\n",
    "    print(kmeans_group)"
   ]
  },
  {
   "cell_type": "markdown",
   "id": "664d8fca-d454-4bce-8c37-ee80e509fc68",
   "metadata": {},
   "source": [
    "<p>Eww.. that's not what we wanted..</p>"
   ]
  },
  {
   "cell_type": "markdown",
   "id": "f7e608d4-9373-4149-b8bd-162afa7c25f2",
   "metadata": {},
   "source": [
    "### Clustering using K-Means from TF-IDF"
   ]
  },
  {
   "cell_type": "code",
   "execution_count": 27,
   "id": "0dbcade9-9590-4954-991e-c20c42f94dcc",
   "metadata": {},
   "outputs": [],
   "source": [
    "from sklearn.cluster import KMeans\n",
    "kmeans = KMeans(n_clusters=3, random_state=0).fit(tfidf)"
   ]
  },
  {
   "cell_type": "code",
   "execution_count": 28,
   "id": "7a5bc063-ced4-406d-a285-f0ba14c0acac",
   "metadata": {},
   "outputs": [
    {
     "name": "stdout",
     "output_type": "stream",
     "text": [
      "[1 2 0 1 2 0 2 0 1 0]\n"
     ]
    }
   ],
   "source": [
    "kmeans_result = kmeans.predict(tfidf)\n",
    "print(kmeans_result)"
   ]
  },
  {
   "cell_type": "code",
   "execution_count": 29,
   "id": "86177bf3-56f0-4421-a564-f32d2f53340e",
   "metadata": {},
   "outputs": [
    {
     "name": "stdout",
     "output_type": "stream",
     "text": [
      "cluster:  0\n",
      "(array([2, 5, 7, 9]),)\n",
      "cluster:  1\n",
      "(array([0, 3, 8]),)\n",
      "cluster:  2\n",
      "(array([1, 4, 6]),)\n"
     ]
    }
   ],
   "source": [
    "# Show cluster results\n",
    "for cluster_number in range(3):\n",
    "    print('cluster: ', cluster_number)\n",
    "    kmeans_group = np.where(kmeans_result == cluster_number)\n",
    "    print(kmeans_group)"
   ]
  },
  {
   "cell_type": "markdown",
   "id": "a888bf82-332b-4ad8-b5ff-a48b7087deea",
   "metadata": {},
   "source": [
    "### Analisis hasil Cluster\n",
    "Dari hasil Cluster, kita dapat menyimpulkan bahwa:<br>\n",
    "cluster 0: Menuntut ilmu<br>\n",
    "cluster 1: Kebersihan<br>\n",
    "cluster 2: Sabar<br>"
   ]
  },
  {
   "cell_type": "markdown",
   "id": "2e8d4002-8615-4f4f-adfc-3d2749eff147",
   "metadata": {},
   "source": [
    "### Evaluation Metrics"
   ]
  },
  {
   "cell_type": "code",
   "execution_count": 30,
   "id": "7487e56d-6e73-4f0a-9942-2d15bfe28986",
   "metadata": {},
   "outputs": [],
   "source": [
    "y_true = np.array([1, 2, 0, 1, 2, 0, 2, 0, 1, 0])\n",
    "# Actual label on dataset: 0 (Menuntut ilmu), 1 (Kebersihan), 2 (Sabar)\n",
    "\n",
    "y_pred = kmeans_result"
   ]
  },
  {
   "cell_type": "code",
   "execution_count": 31,
   "id": "c364f269-ca2d-4fce-a639-50ff8fe16cfc",
   "metadata": {},
   "outputs": [
    {
     "name": "stdout",
     "output_type": "stream",
     "text": [
      "Accuracy score: 1.0\n"
     ]
    }
   ],
   "source": [
    "from sklearn.metrics import accuracy_score\n",
    "print(\"Accuracy score:\", accuracy_score(y_true, y_pred))"
   ]
  },
  {
   "cell_type": "code",
   "execution_count": 32,
   "id": "0effc6b0-26e9-4009-8871-62d04c0304f5",
   "metadata": {},
   "outputs": [
    {
     "name": "stdout",
     "output_type": "stream",
     "text": [
      "              precision    recall  f1-score   support\n",
      "\n",
      "           0       1.00      1.00      1.00         4\n",
      "           1       1.00      1.00      1.00         3\n",
      "           2       1.00      1.00      1.00         3\n",
      "\n",
      "    accuracy                           1.00        10\n",
      "   macro avg       1.00      1.00      1.00        10\n",
      "weighted avg       1.00      1.00      1.00        10\n",
      "\n"
     ]
    }
   ],
   "source": [
    "from sklearn.metrics import classification_report\n",
    "print(classification_report(y_true, y_pred))"
   ]
  },
  {
   "cell_type": "code",
   "execution_count": null,
   "id": "6c80dc48-50b8-4a97-be53-ba39e41e54ce",
   "metadata": {},
   "outputs": [],
   "source": []
  }
 ],
 "metadata": {
  "kernelspec": {
   "display_name": "Python 3 (ipykernel)",
   "language": "python",
   "name": "python3"
  },
  "language_info": {
   "codemirror_mode": {
    "name": "ipython",
    "version": 3
   },
   "file_extension": ".py",
   "mimetype": "text/x-python",
   "name": "python",
   "nbconvert_exporter": "python",
   "pygments_lexer": "ipython3",
   "version": "3.8.10"
  }
 },
 "nbformat": 4,
 "nbformat_minor": 5
}
